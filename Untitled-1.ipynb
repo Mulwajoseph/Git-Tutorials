{
 "cells": [
  {
   "cell_type": "markdown",
   "metadata": {},
   "source": [
    "# BMI Calculator"
   ]
  },
  {
   "cell_type": "code",
   "execution_count": 8,
   "metadata": {},
   "outputs": [
    {
     "name": "stdout",
     "output_type": "stream",
     "text": [
      "Hello Joseph. Welcome to our BMI Calculation System\n"
     ]
    }
   ],
   "source": [
    "name = input(\"What is your Name\")\n",
    "print (f'Hello {name}. Welcome to our BMI Calculation System')"
   ]
  },
  {
   "cell_type": "code",
   "execution_count": 9,
   "metadata": {},
   "outputs": [
    {
     "name": "stdout",
     "output_type": "stream",
     "text": [
      "Provide us with the information below\n",
      "=========BMI Result========\n",
      "your BMI is 31.21\n",
      "Overweight\n"
     ]
    }
   ],
   "source": [
    "print(\"Provide us with the information below\")\n",
    "weight = float(input(\"Enter your weight :KGS\"))\n",
    "height = float(input(\"Enter your height :Metres\"))\n",
    "\n",
    "BMI =round(weight/(height * height),2)\n",
    "\n",
    "print(\"=========BMI Result========\") \n",
    "\n",
    "print(f\"your BMI is {BMI}\")\n",
    "\n",
    "if BMI >25:\n",
    "    print (\"Overweight\")\n",
    "elif BMI <18:\n",
    "    print('Underweight')\n",
    "else :\n",
    "    print (\"normal\")"
   ]
  },
  {
   "cell_type": "code",
   "execution_count": null,
   "metadata": {},
   "outputs": [],
   "source": []
  }
 ],
 "metadata": {
  "kernelspec": {
   "display_name": "base",
   "language": "python",
   "name": "python3"
  },
  "language_info": {
   "codemirror_mode": {
    "name": "ipython",
    "version": 3
   },
   "file_extension": ".py",
   "mimetype": "text/x-python",
   "name": "python",
   "nbconvert_exporter": "python",
   "pygments_lexer": "ipython3",
   "version": "3.11.5"
  }
 },
 "nbformat": 4,
 "nbformat_minor": 2
}
